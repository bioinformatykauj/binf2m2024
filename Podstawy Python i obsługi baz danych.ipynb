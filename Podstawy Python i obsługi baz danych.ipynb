{
 "cells": [
  {
   "cell_type": "markdown",
   "id": "3bbb279d",
   "metadata": {},
   "source": [
    "<h4> Podstawy składni Python"
   ]
  },
  {
   "cell_type": "code",
   "execution_count": 1,
   "id": "545152a8",
   "metadata": {},
   "outputs": [],
   "source": [
    "x = 6"
   ]
  },
  {
   "cell_type": "code",
   "execution_count": 2,
   "id": "8156afff",
   "metadata": {},
   "outputs": [
    {
     "name": "stdout",
     "output_type": "stream",
     "text": [
      "13\n"
     ]
    }
   ],
   "source": [
    "x = x+7\n",
    "print(x)"
   ]
  },
  {
   "cell_type": "code",
   "execution_count": 3,
   "id": "ca9bef8d",
   "metadata": {},
   "outputs": [
    {
     "name": "stdout",
     "output_type": "stream",
     "text": [
      "TAGGCTAGTAGGCTA\n"
     ]
    }
   ],
   "source": [
    "seq1 = \"TAGGCTAGTAGGCTA\"\n",
    "print(seq1)"
   ]
  },
  {
   "cell_type": "code",
   "execution_count": 4,
   "id": "bc6bfa11",
   "metadata": {},
   "outputs": [
    {
     "name": "stdout",
     "output_type": "stream",
     "text": [
      "15\n"
     ]
    }
   ],
   "source": [
    "print(len(seq1))"
   ]
  },
  {
   "cell_type": "code",
   "execution_count": 5,
   "id": "dd5147a9",
   "metadata": {},
   "outputs": [
    {
     "name": "stdout",
     "output_type": "stream",
     "text": [
      "3\n"
     ]
    }
   ],
   "source": [
    "x = [\"ATGGCC\",\"TGCGGCGCGCG\",\"TATTTATTA\"]\n",
    "\n",
    "print(len(x))"
   ]
  },
  {
   "cell_type": "code",
   "execution_count": 6,
   "id": "8c695dba",
   "metadata": {},
   "outputs": [
    {
     "name": "stdout",
     "output_type": "stream",
     "text": [
      "6\n"
     ]
    }
   ],
   "source": [
    "print(len(x[0]))"
   ]
  },
  {
   "cell_type": "code",
   "execution_count": 7,
   "id": "5e750c7c",
   "metadata": {},
   "outputs": [
    {
     "name": "stdout",
     "output_type": "stream",
     "text": [
      "ATGGCCTGCGGCGCGCG\n"
     ]
    }
   ],
   "source": [
    "print(x[0]+x[1]) #skleja pierwsze dwie sekwencje"
   ]
  },
  {
   "cell_type": "code",
   "execution_count": 8,
   "id": "679faed8",
   "metadata": {},
   "outputs": [
    {
     "name": "stdout",
     "output_type": "stream",
     "text": [
      "39.0\n"
     ]
    }
   ],
   "source": [
    "x = 5+6**2 - 6/3\n",
    "print(x)"
   ]
  },
  {
   "cell_type": "code",
   "execution_count": 9,
   "id": "d3478c20",
   "metadata": {},
   "outputs": [
    {
     "name": "stdout",
     "output_type": "stream",
     "text": [
      "1.0\n"
     ]
    }
   ],
   "source": [
    "import math as mt #modul matematyczny\n",
    "\n",
    "print(mt.cos(0))"
   ]
  },
  {
   "cell_type": "code",
   "execution_count": 10,
   "id": "27dc64ec",
   "metadata": {},
   "outputs": [
    {
     "name": "stdout",
     "output_type": "stream",
     "text": [
      "24.04107572533686\n"
     ]
    }
   ],
   "source": [
    "#definiuje własną funkcję (operacja lub seria operacji w praktyce ktore zostaną wykonane na x)\n",
    "def binf2(x):\n",
    "    return mt.sin(x)+x**2\n",
    "\n",
    "#sprawdze jak dziala na przykladzie\n",
    "x = 5\n",
    "print(binf2(x))"
   ]
  },
  {
   "cell_type": "code",
   "execution_count": 11,
   "id": "92ceb53d",
   "metadata": {},
   "outputs": [
    {
     "name": "stdout",
     "output_type": "stream",
     "text": [
      "1\n"
     ]
    }
   ],
   "source": [
    "#definiuje własną funkcję\n",
    "def ileT(x):\n",
    "    return x.count(\"T\")\n",
    "\n",
    "\n",
    "#sprawdze jak dziala na przykladzie\n",
    "x = \"ATCGGCGCG\"\n",
    "print(ileT(x))"
   ]
  },
  {
   "cell_type": "markdown",
   "id": "95feab04",
   "metadata": {},
   "source": [
    "<h4> Pobieranie rekordów z baz danych"
   ]
  },
  {
   "cell_type": "markdown",
   "id": "488abbee",
   "metadata": {},
   "source": [
    "- dla danego zapytania zwraca ID prac"
   ]
  },
  {
   "cell_type": "code",
   "execution_count": 15,
   "id": "b68a30ad",
   "metadata": {},
   "outputs": [
    {
     "name": "stdout",
     "output_type": "stream",
     "text": [
      "['39541470', '39361752', '39024447', '38753770', '37824661', '37797016', '37797003', '37651534', '37499029', '37410820', '36705538', '36423290', '36423275', '35549401', '35482881', '35389793', '35143256', '35040667', '35025667', '34812653', '34672695', '34648302', '34529476', '34519540', '34413232', '34385356', '34326217', '34214046', '33766944', '33414215']\n"
     ]
    }
   ],
   "source": [
    "from urllib.request import urlopen\n",
    "from urllib.parse import urlencode \n",
    "from lxml import etree  \n",
    "\n",
    "term = \"mRNA [TI] and Science [JO]\" #CZEGO SZUKAMY <-- to zmieniamy\n",
    "base_url = \"https://eutils.ncbi.nlm.nih.gov/entrez/eutils/esearch.fcgi?\"\n",
    "url = base_url+ urlencode({\"db\": \"pubmed\", \"term\": term, \"retmax\": 30}) \n",
    "\n",
    "response = urlopen(url) #otwieramy polączenie URL\n",
    "resultxml = response.read() #czytam zawartosc\n",
    "xml = etree.XML(resultxml)  #strukturyzacja\n",
    "\n",
    "resultelements = xml.xpath(\"//Id\")  #czego chce sie dowiedziec? Tutaj ID prac\n",
    "\n",
    "IDs = []\n",
    "for elem in resultelements:\n",
    "    IDs.append(elem.text)\n",
    "\n",
    "print(IDs)"
   ]
  },
  {
   "cell_type": "markdown",
   "id": "68c42e77",
   "metadata": {},
   "source": [
    "- dla danego ID pracy zwracam interesującą mnie informację (np tytuł pracy)"
   ]
  },
  {
   "cell_type": "code",
   "execution_count": 16,
   "id": "2cac0566",
   "metadata": {},
   "outputs": [
    {
     "name": "stdout",
     "output_type": "stream",
     "text": [
      "Low-dose mRNA-1273 COVID-19 vaccine generates durable memory enhanced by cross-reactive T cells.\n"
     ]
    }
   ],
   "source": [
    "from urllib.request import urlopen\n",
    "from lxml import etree\n",
    "\n",
    "PMID = '34519540' #ID pracy <-- to zmieniamy\n",
    "baseurl = \"https://eutils.ncbi.nlm.nih.gov/entrez/eutils/efetch.fcgi?\"\n",
    "query = \"db=pubmed&id=\"+PMID+\"&format=xml\"    \n",
    "url = baseurl+query\n",
    "\n",
    "f = urlopen(url) #otwieram połączenie URL\n",
    "resultxml = f.read() #czytam zawartość\n",
    "xml = etree.XML(resultxml) #strukturyzacja\n",
    "\n",
    "resultelements= xml.xpath(\"//ArticleTitle\")   #Inne: ArticleTitle, LastName, Keyword, AbstractText, DescriptorName\n",
    "\n",
    "for element in resultelements:\n",
    "    print(element.text)"
   ]
  },
  {
   "cell_type": "markdown",
   "id": "a329b2b2",
   "metadata": {},
   "source": [
    "- Poniższy kod łączy dwa poprzednie korki, wyświetla tytuły prac z tematyki która była wcześniej wyszukiwana"
   ]
  },
  {
   "cell_type": "code",
   "execution_count": 18,
   "id": "6bc225c0",
   "metadata": {},
   "outputs": [
    {
     "name": "stdout",
     "output_type": "stream",
     "text": [
      "Ribozyme-activated mRNA trans-ligation enables large gene delivery to treat muscular dystrophies.\n",
      "\n",
      "A multivalent mRNA-LNP vaccine protects against \n",
      "\n",
      "The human mitochondrial mRNA structurome reveals mechanisms of gene expression.\n",
      "\n",
      "mRNA-LNP HIV-1 trimer boosters elicit precursors to broad neutralizing antibodies.\n",
      "\n",
      "New Novavax vaccine OK'd; studies size it up against mRNA.\n",
      "\n",
      "Award honors pair for mRNA work key to COVID-19 vaccines.\n",
      "\n",
      "The mRNA enthusiast's memoirs\n",
      "\n",
      "An mTRAN-mRNA interaction mediates mitochondrial translation initiation in plants.\n",
      "\n",
      "In vivo hematopoietic stem cell modification by mRNA delivery.\n",
      "\n",
      "Structural basis of gRNA stabilization and mRNA recognition in trypanosomal RNA editing.\n",
      "\n",
      "Exon architecture controls mRNA m\n",
      "\n",
      "The influenza universe in an mRNA vaccine.\n",
      "\n",
      "A multivalent nucleoside-modified mRNA vaccine against all known influenza virus subtypes.\n",
      "\n",
      "Better lipids to power next generation of mRNA vaccines.\n",
      "\n",
      "First self-copying mRNA vaccine proves itself in pandemic trial.\n",
      "\n",
      "New crop of mRNA vaccines aim for accessibility.\n",
      "\n",
      "Broad anti-SARS-CoV-2 antibody immunity induced by heterologous ChAdOx1/mRNA-1273 vaccination.\n",
      "\n",
      "Neutralization of SARS-CoV-2 Omicron by BNT162b2 mRNA vaccine-elicited human sera.\n",
      "\n",
      "An RNA exosome subunit mediates cell-to-cell trafficking of a homeobox mRNA via plasmodesmata.\n",
      "\n",
      "Immune correlates analysis of the mRNA-1273 COVID-19 vaccine efficacy clinical trial.\n",
      "\n",
      "Protection against SARS-CoV-2 Beta variant in mRNA-1273 vaccine-boosted nonhuman primates.\n",
      "\n",
      "mRNA vaccines induce durable immune memory to SARS-CoV-2 and variants of concern.\n",
      "\n",
      "Immune correlates of protection by mRNA-1273 vaccine against SARS-CoV-2 in nonhuman primates.\n",
      "\n",
      "Low-dose mRNA-1273 COVID-19 vaccine generates durable memory enhanced by cross-reactive T cells.\n",
      "\n",
      "Mammalian retrovirus-like protein PEG10 packages its own mRNA and can be pseudotyped for mRNA delivery.\n",
      "\n",
      "Durability of mRNA-1273 vaccine-induced antibodies against SARS-CoV-2 variants.\n",
      "\n",
      "The overlooked superpower of mRNA vaccines.\n",
      "\n",
      "Chimeric spike mRNA vaccines protect against Sarbecovirus challenge in mice.\n",
      "\n",
      "mRNA vaccination boosts cross-variant neutralizing antibodies elicited by SARS-CoV-2 infection.\n",
      "\n",
      "A noninflammatory mRNA vaccine for treatment of experimental autoimmune encephalomyelitis.\n",
      "\n"
     ]
    }
   ],
   "source": [
    "for i in IDs:\n",
    "    PMID = i #nr pracy\n",
    "    baseurl = \"https://eutils.ncbi.nlm.nih.gov/entrez/eutils/efetch.fcgi?\"\n",
    "    query = \"db=pubmed&id=\"+PMID+\"&format=xml\"    \n",
    "    url = baseurl+query\n",
    "\n",
    "    f = urlopen(url) #otwieram połączenie URL\n",
    "    resultxml = f.read() #czytam zawartość\n",
    "    xml = etree.XML(resultxml) #strukturyzacja\n",
    "\n",
    "    resultelements= xml.xpath(\"//ArticleTitle\")   #Inne: ArticleTitle, LastName, Keyword, AbstractText, DescriptorName\n",
    "\n",
    "    for element in resultelements:\n",
    "        print(element.text)\n",
    "    print()"
   ]
  }
 ],
 "metadata": {
  "kernelspec": {
   "display_name": "Python 3 (ipykernel)",
   "language": "python",
   "name": "python3"
  },
  "language_info": {
   "codemirror_mode": {
    "name": "ipython",
    "version": 3
   },
   "file_extension": ".py",
   "mimetype": "text/x-python",
   "name": "python",
   "nbconvert_exporter": "python",
   "pygments_lexer": "ipython3",
   "version": "3.11.5"
  }
 },
 "nbformat": 4,
 "nbformat_minor": 5
}
